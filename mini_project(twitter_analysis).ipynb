{
  "nbformat": 4,
  "nbformat_minor": 0,
  "metadata": {
    "colab": {
      "provenance": [],
      "authorship_tag": "ABX9TyPkLd/WKFVWqCA/MK0b4e5n",
      "include_colab_link": true
    },
    "kernelspec": {
      "name": "python3",
      "display_name": "Python 3"
    },
    "language_info": {
      "name": "python"
    }
  },
  "cells": [
    {
      "cell_type": "markdown",
      "metadata": {
        "id": "view-in-github",
        "colab_type": "text"
      },
      "source": [
        "<a href=\"https://colab.research.google.com/github/Deepureddi/project/blob/main/mini_project(twitter_analysis).ipynb\" target=\"_parent\"><img src=\"https://colab.research.google.com/assets/colab-badge.svg\" alt=\"Open In Colab\"/></a>"
      ]
    },
    {
      "cell_type": "code",
      "source": [
        "import pandas as pd\n",
        "from textblob import TextBlob\n",
        "\n",
        "# Load the dataset\n",
        "data = pd.read_csv('/content/sample_data/twitter_training.csv', header=None) # Add header=None as the first row is not a header\n",
        "\n",
        "# Print column names to verify\n",
        "print(\"Columns in your dataset:\", data.columns)\n",
        "\n",
        "# Use correct column names based on your dataset\n",
        "# Based on the previous output, assuming the last column is tweet text and the third is sentiment\n",
        "data = data[[2, 3]] # Select the 3rd and 4th columns (0-indexed)\n",
        "data.columns = ['category', 'clean_text']  # Rename for convenience, putting category first based on the order in the dataframe\n",
        "\n",
        "# Drop any rows with missing tweet text\n",
        "data = data.dropna(subset=['clean_text'])\n",
        "\n",
        "# Define function to get sentiment using TextBlob\n",
        "def analyze_sentiment(tweet):\n",
        "    analysis = TextBlob(str(tweet))\n",
        "    polarity = analysis.sentiment.polarity\n",
        "    if polarity > 0:\n",
        "        return 1.0  # Positive\n",
        "    elif polarity == 0:\n",
        "        return 0.0  # Neutral\n",
        "    else:\n",
        "        return -1.0  # Negative\n",
        "\n",
        "# Apply the sentiment analysis to tweets\n",
        "data['predicted_sentiment'] = data['clean_text'].apply(analyze_sentiment)\n",
        "\n",
        "# Map actual sentiment categories to numerical values\n",
        "sentiment_map = {\n",
        "    'Positive': 1.0,\n",
        "    'Neutral': 0.0,\n",
        "    'Negative': -1.0,\n",
        "    'Irrelevant': 2.0 # Add irrelevant as seen in data description, though it might not be used for accuracy calculation later\n",
        "}\n",
        "\n",
        "# Filter only rows with valid sentiment categories\n",
        "data = data[data['category'].isin(sentiment_map.keys())]\n",
        "\n",
        "# Map actual categories to numerical\n",
        "data['actual_sentiment'] = data['category'].map(sentiment_map)\n",
        "\n",
        "# Compare predicted with actual for relevant sentiments\n",
        "# Exclude 'Irrelevant' from accuracy calculation if needed, depending on the goal\n",
        "# For now, compare all mapped values\n",
        "data['correct'] = data['predicted_sentiment'] == data['actual_sentiment']\n",
        "\n",
        "# Calculate accuracy - only for relevant sentiments\n",
        "# Filter data to exclude 'Irrelevant' sentiment if calculating accuracy only on Positive/Neutral/Negative\n",
        "relevant_data = data[data['category'].isin(['Positive', 'Neutral', 'Negative'])]\n",
        "accuracy = relevant_data['correct'].mean()\n",
        "\n",
        "\n",
        "print(f\"\\nAccuracy of sentiment analysis (excluding 'Irrelevant'): {accuracy * 100:.2f}%\")\n",
        "\n",
        "# Display a few results\n",
        "print(\"\\nSample predictions:\")\n",
        "print(relevant_data[['clean_text', 'category', 'predicted_sentiment', 'correct']].head())"
      ],
      "metadata": {
        "colab": {
          "base_uri": "https://localhost:8080/"
        },
        "id": "9rhTWN8WOf4A",
        "outputId": "363f0f8c-4231-40cb-ab9a-5d177984234e"
      },
      "execution_count": null,
      "outputs": [
        {
          "output_type": "stream",
          "name": "stdout",
          "text": [
            "Columns in your dataset: Index([0, 1, 2, 3], dtype='int64')\n",
            "\n",
            "Accuracy of sentiment analysis (excluding 'Irrelevant'): 48.29%\n",
            "\n",
            "Sample predictions:\n",
            "                                          clean_text  category  \\\n",
            "0  im getting on borderlands and i will murder yo...  Positive   \n",
            "1  I am coming to the borders and I will kill you...  Positive   \n",
            "2  im getting on borderlands and i will kill you ...  Positive   \n",
            "3  im coming on borderlands and i will murder you...  Positive   \n",
            "4  im getting on borderlands 2 and i will murder ...  Positive   \n",
            "\n",
            "   predicted_sentiment  correct  \n",
            "0                  0.0    False  \n",
            "1                  0.0    False  \n",
            "2                  0.0    False  \n",
            "3                  0.0    False  \n",
            "4                  0.0    False  \n"
          ]
        }
      ]
    }
  ]
}